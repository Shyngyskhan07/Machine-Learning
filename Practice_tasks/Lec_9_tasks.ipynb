{
 "cells": [
  {
   "cell_type": "markdown",
   "metadata": {},
   "source": [
    "# THE FIRST TASK"
   ]
  },
  {
   "cell_type": "code",
   "execution_count": 113,
   "metadata": {},
   "outputs": [],
   "source": [
    "import math\n",
    "\n",
    "class Solution:\n",
    "    \n",
    "    def __init__(self, N, A):\n",
    "        self.N = N\n",
    "        self.A = []\n",
    "    \n",
    "    def intersection(self):\n",
    "        cnt = 0\n",
    "        for i in range(len(A)):\n",
    "            #print(A[i])\n",
    "            \n",
    "            for j in range(i+1, len(A)):\n",
    "                #print(j)\n",
    "                #print(abs(i-j))\n",
    "                \n",
    "                if abs(i - j) == abs(A[i] - A[j]) or abs(i - j) == A[j] + A[i] and A[i] != A[j]:\n",
    "                    cnt += 1\n",
    "                    print(i, \" and \", j)\n",
    "                    \n",
    "                elif abs(i - j) <= A[i] + A[j] and A[i] != A[j]:\n",
    "                    cnt += 1\n",
    "                    print(i, \" and \", j)\n",
    "                    \n",
    "                elif abs(i - j) == 0 and A[i] != A[j]:\n",
    "                    cnt += 1\n",
    "                    print(i, \" and \", j)\n",
    "                    \n",
    "                elif abs(i - j) == A[i] or abs(i - j) == A[j] and A[i] != A[j]:\n",
    "                    cnt += 1\n",
    "                    print(i, \" and \", j)\n",
    "                    \n",
    "        return cnt"
   ]
  },
  {
   "cell_type": "code",
   "execution_count": 114,
   "metadata": {},
   "outputs": [
    {
     "name": "stdout",
     "output_type": "stream",
     "text": [
      "6\n",
      "1\n",
      "5\n",
      "2\n",
      "1\n",
      "4\n",
      "0\n",
      "0  and  1\n",
      "0  and  2\n",
      "0  and  4\n",
      "1  and  2\n",
      "1  and  3\n",
      "1  and  4\n",
      "1  and  5\n",
      "2  and  3\n",
      "2  and  4\n",
      "3  and  4\n",
      "4  and  5\n",
      "11\n"
     ]
    }
   ],
   "source": [
    "A = []        \n",
    "N = int(input())\n",
    "\n",
    "for i in range(N):\n",
    "    b = int(input())\n",
    "    A.append(b)\n",
    "\n",
    "sol = Solution(N, A)\n",
    "print(sol.intersection())"
   ]
  },
  {
   "cell_type": "markdown",
   "metadata": {},
   "source": [
    "# THE SECOND TASK\n"
   ]
  },
  {
   "cell_type": "code",
   "execution_count": 115,
   "metadata": {},
   "outputs": [],
   "source": [
    "def solution(A):\n",
    "    my_list = list()\n",
    "    for i in range(len(A)):\n",
    "        cnt = 0\n",
    "        \n",
    "        for j in range(len(A)):\n",
    "            if(A[i] == A[j]):\n",
    "                cnt +=1\n",
    "        \n",
    "        if cnt == 1:\n",
    "            my_list.append(A[i])\n",
    "            \n",
    "    \n",
    "    if len(my_list) == 0:\n",
    "        return 0\n",
    "    \n",
    "    return my_list\n",
    "    "
   ]
  },
  {
   "cell_type": "code",
   "execution_count": 116,
   "metadata": {},
   "outputs": [
    {
     "name": "stdout",
     "output_type": "stream",
     "text": [
      "7\n",
      "9\n",
      "3\n",
      "9\n",
      "3\n",
      "9\n",
      "7\n",
      "9\n"
     ]
    },
    {
     "data": {
      "text/plain": [
       "[7]"
      ]
     },
     "execution_count": 116,
     "metadata": {},
     "output_type": "execute_result"
    }
   ],
   "source": [
    "A = []        \n",
    "N = int(input())\n",
    "\n",
    "for i in range(N):\n",
    "    b = int(input())\n",
    "    A.append(b)\n",
    "    \n",
    "solution(A)"
   ]
  },
  {
   "cell_type": "markdown",
   "metadata": {},
   "source": [
    "# THE THIRD TASK"
   ]
  },
  {
   "cell_type": "code",
   "execution_count": 11,
   "metadata": {},
   "outputs": [],
   "source": [
    "def solution(A,B):\n",
    "    v = 0\n",
    "    length = len(A)\n",
    "    C = []\n",
    "    \n",
    "    for i in range(length):\n",
    "        \n",
    "        if B[i] == 0:\n",
    "            \n",
    "            while len(C) > 0 and A[i] > C[len(C) - 1]:\n",
    "                C.pop()\n",
    "            \n",
    "            if len(C) == 0:\n",
    "                v += 1\n",
    "\n",
    "        else:\n",
    "            C.append(A[i])\n",
    "    \n",
    "  \n",
    "    return v + len(C);"
   ]
  },
  {
   "cell_type": "code",
   "execution_count": 12,
   "metadata": {},
   "outputs": [
    {
     "name": "stdout",
     "output_type": "stream",
     "text": [
      "Enter the fish size:\n",
      "5\n",
      "4\n",
      "3\n",
      "2\n",
      "1\n",
      "5\n",
      "Enter the fish direction:\n",
      "0\n",
      "1\n",
      "0\n",
      "0\n",
      "0\n"
     ]
    },
    {
     "data": {
      "text/plain": [
       "2"
      ]
     },
     "execution_count": 12,
     "metadata": {},
     "output_type": "execute_result"
    }
   ],
   "source": [
    "A = []\n",
    "B = []\n",
    "print(\"Enter the fish size:\")\n",
    "\n",
    "N = int(input())\n",
    "\n",
    "for i in range(N):\n",
    "    size = int(input())\n",
    "    A.append(size)\n",
    "\n",
    "print(\"Enter the fish direction:\")\n",
    "\n",
    "for i in range(N):\n",
    "    d = int(input())\n",
    "    B.append(d)\n",
    "    \n",
    "solution(A,B)"
   ]
  },
  {
   "cell_type": "code",
   "execution_count": null,
   "metadata": {},
   "outputs": [],
   "source": []
  }
 ],
 "metadata": {
  "kernelspec": {
   "display_name": "Python 3",
   "language": "python",
   "name": "python3"
  },
  "language_info": {
   "codemirror_mode": {
    "name": "ipython",
    "version": 3
   },
   "file_extension": ".py",
   "mimetype": "text/x-python",
   "name": "python",
   "nbconvert_exporter": "python",
   "pygments_lexer": "ipython3",
   "version": "3.8.3"
  }
 },
 "nbformat": 4,
 "nbformat_minor": 4
}
