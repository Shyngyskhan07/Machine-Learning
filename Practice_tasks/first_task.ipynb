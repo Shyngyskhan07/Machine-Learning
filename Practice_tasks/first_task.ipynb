{
 "cells": [
  {
   "cell_type": "code",
   "execution_count": 303,
   "metadata": {},
   "outputs": [],
   "source": [
    "def double_space(n):\n",
    "    n1 = bin(n)\n",
    "    n1 = n1[2:]\n",
    "    str_len = len(n1)\n",
    "    my_set = set()\n",
    "    my_list = list()\n",
    "    for i in range(len(n1)):\n",
    "        \n",
    "        if int(n1[i]) == 1:\n",
    "            place = i + 1\n",
    "            my_list.append(place)\n",
    "            #print(place) \n",
    "            cnt1 = 0\n",
    "            \n",
    "            while place < str_len:\n",
    "\n",
    "                if int(n1[place]) == 0:\n",
    "                    cnt1 += 1\n",
    "\n",
    "                if int(n1[place]) == 1:\n",
    "                    my_set.add(cnt1)\n",
    "                    break\n",
    "              \n",
    "                place +=1\n",
    "              \n",
    "                                \n",
    "            \n",
    "                        \n",
    "    if(len(my_list) > 1):                \n",
    "        return(max(my_set))\n",
    "    \n",
    "    return 0\n",
    "            "
   ]
  },
  {
   "cell_type": "code",
   "execution_count": 304,
   "metadata": {},
   "outputs": [
    {
     "data": {
      "text/plain": [
       "1"
      ]
     },
     "execution_count": 304,
     "metadata": {},
     "output_type": "execute_result"
    }
   ],
   "source": [
    "double_space(20)\n",
    "\n",
    "\n",
    "\n",
    "\n"
   ]
  },
  {
   "cell_type": "code",
   "execution_count": 305,
   "metadata": {},
   "outputs": [
    {
     "data": {
      "text/plain": [
       "5"
      ]
     },
     "execution_count": 305,
     "metadata": {},
     "output_type": "execute_result"
    }
   ],
   "source": [
    "double_space(1041)"
   ]
  },
  {
   "cell_type": "code",
   "execution_count": 306,
   "metadata": {},
   "outputs": [
    {
     "data": {
      "text/plain": [
       "2"
      ]
     },
     "execution_count": 306,
     "metadata": {},
     "output_type": "execute_result"
    }
   ],
   "source": [
    "double_space(9)"
   ]
  },
  {
   "cell_type": "code",
   "execution_count": 307,
   "metadata": {},
   "outputs": [
    {
     "data": {
      "text/plain": [
       "0"
      ]
     },
     "execution_count": 307,
     "metadata": {},
     "output_type": "execute_result"
    }
   ],
   "source": [
    "double_space(15)"
   ]
  },
  {
   "cell_type": "code",
   "execution_count": 308,
   "metadata": {},
   "outputs": [
    {
     "data": {
      "text/plain": [
       "4"
      ]
     },
     "execution_count": 308,
     "metadata": {},
     "output_type": "execute_result"
    }
   ],
   "source": [
    "double_space(529)"
   ]
  },
  {
   "cell_type": "code",
   "execution_count": null,
   "metadata": {},
   "outputs": [],
   "source": []
  }
 ],
 "metadata": {
  "kernelspec": {
   "display_name": "Python 3",
   "language": "python",
   "name": "python3"
  },
  "language_info": {
   "codemirror_mode": {
    "name": "ipython",
    "version": 3
   },
   "file_extension": ".py",
   "mimetype": "text/x-python",
   "name": "python",
   "nbconvert_exporter": "python",
   "pygments_lexer": "ipython3",
   "version": "3.8.3"
  }
 },
 "nbformat": 4,
 "nbformat_minor": 4
}
