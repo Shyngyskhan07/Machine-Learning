{
 "cells": [
  {
   "cell_type": "code",
   "execution_count": 6,
   "metadata": {},
   "outputs": [
    {
     "name": "stdout",
     "output_type": "stream",
     "text": [
      "[0.95275444 0.86447381 0.89517152 0.77708871 0.94023857 0.73273876\n",
      " 0.92587507 0.88427249 0.90550888 0.83281654 0.88047714 0.83964325\n",
      " 0.87035926 0.87401184 0.94427218 0.84063619 0.9566445  0.94427218\n",
      " 0.88854436 0.84275727 0.82503645]\n"
     ]
    },
    {
     "data": {
      "text/plain": [
       "array([6, 4], dtype=int64)"
      ]
     },
     "execution_count": 6,
     "metadata": {},
     "output_type": "execute_result"
    }
   ],
   "source": [
    "import re                                                 #import regular expression (task 3)\n",
    "import numpy as np                                        # library numpy (Task 6)\n",
    "import pandas as pd                                       # library pandas\n",
    "import scipy\n",
    "import scipy.spatial\n",
    "\n",
    "\n",
    "lines = list(open('sentences.txt', 'r'))                  #to save txt to list (task 1)\n",
    "#print(lines)\n",
    "\n",
    "array = []                                                #array for new sentences\n",
    "\n",
    "for line in lines:                             \n",
    "    line = line.lower().strip()                           #method to lover and remove unnecessary whitespaces(task 2)         \n",
    "    array.append(line)                                    #add to array\n",
    "\n",
    "length = range(len(array))                                #total count of sentences\n",
    "for i in length:                               \n",
    "    array[i] = re.split('[^a-z]', array[i])               #method to split array to each word\n",
    "    for j in range(array[i].count('')):                   #remove empty words in every line\n",
    "        array[i].remove('')\n",
    "        \n",
    "        \n",
    "emptyDict = {}                                            #dictionary  (task 4)\n",
    "cnt = 0                                                   #counter for each word\n",
    "newArray = []                                             #new Array without duplicates\n",
    "\n",
    "for i in array:                                           #method to remove duplicates in sentences\n",
    "    for j in i:\n",
    "        if j not in newArray:\n",
    "            newArray.append(j)\n",
    "\n",
    "for i in newArray:                                        #method to assign counter to each word\n",
    "        emptyDict[i] = cnt\n",
    "        cnt +=1\n",
    "\n",
    "\n",
    "        \n",
    "matrix = np.zeros((len(array), len(emptyDict)))           #filling matrix with 0\n",
    "                            \n",
    "\n",
    "emptyDict_list = list(emptyDict)                          #list of dict to use it in matrix\n",
    "\n",
    "for i in array:\n",
    "    cnt = 0\n",
    "    for j in emptyDict_list:\n",
    "        cnt = i.count(j)\n",
    "        matrix[array.index(i)][emptyDict_list.index(j)] = cnt         #filling matrix\n",
    "\n",
    "df = pd.DataFrame(matrix)                                             #Showing like sql table\n",
    "#print(df)\n",
    "\n",
    "def cosine_distance(a,b):\n",
    "    return 1-a@b/(np.sqrt(a@a)*np.sqrt(b@b))                         #cos distance method\n",
    "    #return 1-scipy.spatial.distance.cosine(a,b)                     #other method( but shows incorrect answer)\n",
    "    \n",
    "distances = np.array([cosine_distance(matrix[0], matrix[i]) for i in range(1, matrix.shape[0])])        #identify distance\n",
    "print(distances)\n",
    "distances.argsort()[:2] + 1                                 #sort"
   ]
  },
  {
   "cell_type": "code",
   "execution_count": null,
   "metadata": {},
   "outputs": [],
   "source": [
    "Task 2 (Done with Teammates)\n",
    "Cosine distance is is not a proper metric, because it does not always satisfy the the requirements of triangle ineqality.\n",
    "Here is an example of condition when the requirements does not hold for inequality\n",
    " d_cosine(x1,x3)<=d_cosine(x1,x2)+d_cosine(x2,x3); x1=(1,0), x2=(sqrt(2)/2,sqrt(2)/2), x3=(0,1)\n",
    "d_cosine(x1,x3)=1-(x1*x3)/(|x1|*|x3|)\n",
    "1-(x1*x3)/(|x1|*|x3|)<=1-(x1*x2)/(|x1|*|x2|)+1-(x2*x3)/(|x2|*|x3|)\n",
    "1-(x1*x3)/(|x1|*|x3|)>2-(x1*x2)/(|x1|*|x2|)-(x2*x3)/(|x2|*|x3|)\n",
    "1-0/sqrt(1)*sqrt(1)>2-sqrt(2)/2-sqrt(2)/2\n",
    "1>2-sqrt(2)\n",
    "1<1.41"
   ]
  }
 ],
 "metadata": {
  "kernelspec": {
   "display_name": "Python 3",
   "language": "python",
   "name": "python3"
  },
  "language_info": {
   "codemirror_mode": {
    "name": "ipython",
    "version": 3
   },
   "file_extension": ".py",
   "mimetype": "text/x-python",
   "name": "python",
   "nbconvert_exporter": "python",
   "pygments_lexer": "ipython3",
   "version": "3.8.3"
  }
 },
 "nbformat": 4,
 "nbformat_minor": 4
}
